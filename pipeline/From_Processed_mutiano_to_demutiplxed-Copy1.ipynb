{
 "cells": [
  {
   "cell_type": "code",
   "execution_count": 1,
   "metadata": {},
   "outputs": [],
   "source": [
    "## header file function (need to be script )\n",
    "import sys\n",
    "import numpy as np\n",
    "import vireoSNP\n",
    "from vireoSNP.utils.vireo_base import match\n",
    "from vireoSNP.utils.vcf_utils import load_VCF, write_VCF, parse_donor_GPb\n",
    "from vireoSNP.utils.vcf_utils import read_sparse_GeneINFO, GenoINFO_maker\n",
    "import matplotlib.pyplot as plt\n",
    "import pandas as pd\n",
    "from vireoSNP.utils.io_utils import match_donor_VCF\n",
    "import re as re\n",
    "def VCF_to_sdf(bulk_data):\n",
    "    df_empty=pd.DataFrame(columns=[\"variants\",\"AD\",\"DP\",\"GT\"])\n",
    "    bulk_dat = read_sparse_GeneINFO(bulk_data['GenoINFO'], keys=['AD', 'DP'])\n",
    "    df_empty[\"variants\"]=bulk_data[\"variants\"]\n",
    "    df_empty[\"AD\"]=bulk_dat[\"AD\"].toarray()\n",
    "    df_empty[\"DP\"]=bulk_dat[\"DP\"].toarray()\n",
    "    return (df_empty)\n",
    "\n",
    "def rematch_vcf(bulk_data,donor_vcf):\n",
    "    df_bulk=VCF_to_sdf(bulk_data)\n",
    "    df_donor=pd.DataFrame(columns=[\"variants\",\"GT\"])\n",
    "    df_donor[\"variants\"]=donor_vcf[\"variants\"]\n",
    "    df_donor[\"GT\"]=donor_vcf[\"GenoINFO\"][\"GT\"]     \n",
    "    donor_tensor = vireoSNP.vcf.parse_donor_GPb(donor_vcf['GenoINFO'][\"GT\"], \"GT\")\n",
    "    itersect_variants=pd.Series(list(set(df_donor[\"variants\"]).intersection(set(df_bulk[\"variants\"]))))\n",
    "    id_d=df_donor[\"variants\"].isin(itersect_variants)\n",
    "    id_b=df_bulk[\"variants\"].isin(itersect_variants)\n",
    "    df_bulk=df_bulk[id_b]\n",
    "    df_donor=df_donor[id_d]\n",
    "    donor_tensor=donor_tensor[id_d]\n",
    "    return(df_bulk,df_donor,donor_tensor)\n",
    "def rematch_vcf_annotated(bulk_data,donor_vcf,donor_vcf_anno):\n",
    "    df_bulk=VCF_to_sdf(bulk_data)\n",
    "    df_donora=pd.DataFrame(columns=[\"variants\",\"function\",\"genes\",\"avsnp\",\"GT\"])\n",
    "    df_donora[\"variants\"]=donor_vcf_anno[\"variants\"]  \n",
    "    df_donora[\"function\"]=donor_vcf_anno[\"function.\"]\n",
    "    df_donora[\"genes\"]=donor_vcf_anno[\"genes\"]\n",
    "    df_donora[\"avsnp\"]=donor_vcf_anno[\"avsnp\"]\n",
    "    df_donor=pd.DataFrame(columns=[\"variants\",\"GT\"])\n",
    "    df_donor[\"variants\"]=donor_vcf[\"variants\"]\n",
    "    df_donor[\"GT\"]=donor_vcf[\"GenoINFO\"][\"GT\"]     \n",
    "    donor_tensor = vireoSNP.vcf.parse_donor_GPb(donor_vcf['GenoINFO'][\"GT\"], \"GT\")\n",
    "    itersect_variants=pd.Series(list(set(df_donora[\"variants\"]).intersection(set(df_bulk[\"variants\"]))))\n",
    "    id_d=df_donor[\"variants\"].isin(itersect_variants)\n",
    "    id_b=df_bulk[\"variants\"].isin(itersect_variants)\n",
    "    id_da=df_donora[\"variants\"].isin(itersect_variants)\n",
    "    df_bulk=df_bulk[id_b]\n",
    "    df_donor=df_donor[id_d]\n",
    "    df_donora=df_donora[id_da]\n",
    "    donor_tensor=donor_tensor[id_d]\n",
    "    df_donora[\"GT\"]=df_donora[\"GT\"]=df_donor[\"GT\"].tolist()\n",
    "    return(df_bulk,df_donora,donor_tensor)\n",
    "def merged_VCF_to_sdf(bulk_data_merge):\n",
    "    df_empty=pd.DataFrame(columns=[\"variants\",\"AD\",\"DP\",\"OTH\"])\n",
    "    df_empty[\"variants\"]=bulk_data_merge[\"variants\"]\n",
    "    testdf=pd.DataFrame(np.array(bulk_merged_data['FixedINFO'][\"INFO\"]))\n",
    "    df_empty[\"AD\"]=testdf[0].str.split(';',expand=True)[0].str.split('=',expand=True)[1].astype(float)\n",
    "    df_empty[\"DP\"]=testdf[0].str.split(';',expand=True)[1].str.split('=',expand=True)[1].astype(float)\n",
    "    df_empty[\"OTH\"]=testdf[0].str.split(';',expand=True)[2].str.split('=',expand=True)[1].astype(float)\n",
    "\n",
    "    \n",
    "\n",
    "    return(df_empty)\n",
    "def rematch_merge_vcf_annotated(bulk_data,donor_vcf,donor_vcf_anno):\n",
    "    df_bulk=merged_VCF_to_sdf(bulk_data)\n",
    "    df_donora=pd.DataFrame(columns=[\"variants\",\"function\",\"genes\",\"avsnp\",\"GT\"])\n",
    "    df_donora[\"variants\"]=donor_vcf_anno[\"variants\"]  \n",
    "    df_donora[\"function\"]=donor_vcf_anno[\"function.\"]\n",
    "    df_donora[\"genes\"]=donor_vcf_anno[\"genes\"]\n",
    "    df_donora[\"avsnp\"]=donor_vcf_anno[\"avsnp\"]\n",
    "    df_donor=pd.DataFrame(columns=[\"variants\",\"GT\"])\n",
    "    df_donor[\"variants\"]=donor_vcf[\"variants\"]\n",
    "    df_donor[\"GT\"]=donor_vcf[\"GenoINFO\"][\"GT\"]     \n",
    "    donor_tensor = vireoSNP.vcf.parse_donor_GPb(donor_vcf['GenoINFO'][\"GT\"], \"GT\")\n",
    "    itersect_variants=pd.Series(list(set(df_donora[\"variants\"]).intersection(set(df_bulk[\"variants\"]))))\n",
    "    id_d=df_donor[\"variants\"].isin(itersect_variants)\n",
    "    id_b=df_bulk[\"variants\"].isin(itersect_variants)\n",
    "    id_da=df_donora[\"variants\"].isin(itersect_variants)\n",
    "    df_bulk=df_bulk[id_b]\n",
    "    df_donor=df_donor[id_d]\n",
    "    df_donora=df_donora[id_da]\n",
    "    donor_tensor=donor_tensor[id_d]\n",
    "    df_donora[\"GT\"]=df_donora[\"GT\"]=df_donor[\"GT\"].tolist()\n",
    "    return(df_bulk,df_donora,donor_tensor)\n",
    "def find_all(data, s):\n",
    "    r_list = []\n",
    "    for r in range(len(data)):\n",
    "        r_list.append( s in data[r])\n",
    " \n",
    "    return(r_list)\n",
    "def removedfault(df_bulk,df_donora,donor_tensor):\n",
    "    id_d=[]\n",
    "    for bool in find_all(np.array(df_donora[\"GT\"]).tolist(),\"./.\"):\n",
    "        id_d.append(not bool)\n",
    "    df_donor=df_donora[id_d]\n",
    "    df_gt=donor_tensor[id_d]\n",
    "    id_b=df_bulk[\"variants\"].isin(df_donor[\"variants\"])\n",
    "    df_b=df_bulk[id_b]\n",
    "    return(df_b,df_donor,df_gt)"
   ]
  },
  {
   "cell_type": "code",
   "execution_count": 2,
   "metadata": {},
   "outputs": [],
   "source": [
    "def rematch_merge_vcf_noannotated(bulk_data,donor_vcf):\n",
    "    df_bulk=merged_VCF_to_sdf(bulk_data)\n",
    "    df_donor=pd.DataFrame(columns=[\"variants\",\"GT\"])\n",
    "    df_donor[\"variants\"]=donor_vcf[\"variants\"]\n",
    "    df_donor[\"GT\"]=donor_vcf[\"GenoINFO\"][\"GT\"]\n",
    "    donor_tensor = vireoSNP.vcf.parse_donor_GPb(donor_vcf['GenoINFO'][\"GT\"], \"GT\")\n",
    "    itersect_variants=pd.Series(list(set(df_donor[\"variants\"]).intersection(set(df_bulk[\"variants\"]))))\n",
    "    id_d=df_donor[\"variants\"].isin(itersect_variants)\n",
    "    id_b=df_bulk[\"variants\"].isin(itersect_variants)\n",
    "    df_bulk=df_bulk[id_b]\n",
    "    df_donor=df_donor[id_d]\n",
    "    donor_tensor=donor_tensor[id_d]\n",
    "    return(df_bulk,df_donor,donor_tensor)"
   ]
  },
  {
   "cell_type": "code",
   "execution_count": 3,
   "metadata": {},
   "outputs": [],
   "source": [
    "def prediction_bulk(df_b,df_d,df_gt,donor_vcf,pre_model,genelist):\n",
    "    gene_unique=genelist\n",
    "    new=pd.DataFrame(index=gene_unique,columns=donor_vcf['samples']+[\"chi\",\"p\",\"numSNP\"])\n",
    "    pre_psi=pre_model\n",
    "    test_d=df_d\n",
    "    test_b=df_b\n",
    "    test_gt=df_gt\n",
    "    sample_list=donor_vcf['samples']\n",
    "    nk=len(donor_vcf['samples'])\n",
    "    for i in range(len(gene_unique)):\n",
    "        sub_d=test_d[test_d[\"genes\"]==gene_unique[i]]\n",
    "        sub_b=test_b[test_b[\"variants\"].isin(test_d[test_d[\"genes\"]==gene_unique[i]][\"variants\"])]\n",
    "        sub_gt=test_gt[test_d[\"genes\"]==gene_unique[i]]\n",
    "        a=np.array(sub_b[\"AD\"])\n",
    "        d=np.array(sub_b[\"DP\"])\n",
    "        a=np.array(list(map(float,a)))\n",
    "        d=np.array(list(map(float,d)))\n",
    "        model =vireoSNP.VireoBulk(nk)\n",
    "        model.fit(a,d,sub_gt,learn_theta=False )\n",
    "        pv=vireoSNP.LikRatio_test(model.psi,pre_psi,a,d,sub_gt,model.theta)\n",
    "        for j in range(len(model.psi)):\n",
    "            new[sample_list[j]][i]=model.psi[j]\n",
    "        new[\"chi\"][i]=pv[0]\n",
    "        new[\"p\"][i]=pv[1]\n",
    "        new[\"numSNP\"][i]=len(a)\n",
    "    return(new)"
   ]
  },
  {
   "cell_type": "code",
   "execution_count": 4,
   "metadata": {},
   "outputs": [],
   "source": [
    "donor_vcf=load_VCF(   \"/home/flyflyzhizhi/Vireobulk_analysis/data/filter_pbmc10donors.vcf.gz\",    biallelic_only=True,    load_sample=True, sparse=False , format_list=None)\n",
    "####count based model\n",
    "##bulk_merged_data=load_VCF(   \"/media/wgs/subset_stimulation_bam/pbmc10donor_bulk/cellSNP.cells.vcf.gz\",    biallelic_only=True,    load_sample=True,    format_list=None,)\n",
    "#### UMI based model\n",
    "bulk_merged_data=load_VCF(\"/home/flyflyzhizhi/Vireobulk_analysis/data/cellSNP.base.vcf.gz\", biallelic_only=True,load_sample=False,format_list=None,)\n",
    "###processedcsv\n",
    "df_anno=pd.read_csv(\"/home/flyflyzhizhi/Vireobulk_analysis/data/scvcf_annotated_processed.csv\")"
   ]
  },
  {
   "cell_type": "code",
   "execution_count": 5,
   "metadata": {},
   "outputs": [
    {
     "data": {
      "text/plain": [
       "10"
      ]
     },
     "execution_count": 5,
     "metadata": {},
     "output_type": "execute_result"
    }
   ],
   "source": [
    "len(donor_vcf['samples'])"
   ]
  },
  {
   "cell_type": "code",
   "execution_count": null,
   "metadata": {},
   "outputs": [],
   "source": [
    "%%time\n",
    "df_b=merged_VCF_to_sdf(bulk_merged_data)"
   ]
  },
  {
   "cell_type": "code",
   "execution_count": null,
   "metadata": {},
   "outputs": [],
   "source": [
    "df_d=merged_VCF_to_sdf(donor_vcf)"
   ]
  },
  {
   "cell_type": "code",
   "execution_count": null,
   "metadata": {},
   "outputs": [],
   "source": [
    "bulk"
   ]
  },
  {
   "cell_type": "code",
   "execution_count": null,
   "metadata": {},
   "outputs": [],
   "source": []
  },
  {
   "cell_type": "code",
   "execution_count": null,
   "metadata": {},
   "outputs": [],
   "source": [
    "df_b,df_d,m_GT=rematch_vcf(bulk_merged_data, donor_vcf)"
   ]
  },
  {
   "cell_type": "code",
   "execution_count": null,
   "metadata": {},
   "outputs": [],
   "source": []
  },
  {
   "cell_type": "code",
   "execution_count": null,
   "metadata": {},
   "outputs": [],
   "source": [
    "#count_bulk_data\n",
    "count_bulk_data=load_VCF(   \"/media/wgs/subset_stimulation_bam/pbmc10donor_bulk/cellSNP.cells.vcf.gz\",    biallelic_only=True,    load_sample=True,    format_list=None,)\n",
    "cf_b,cf_d,cm_GT=rematch_merge_vcf_annotated(count_bulk_data,donor_vcf,df_anno)\n",
    "cf_b,cf_d,cm_GT=removedfault(cf_b,cf_d,cm_GT)"
   ]
  },
  {
   "cell_type": "code",
   "execution_count": null,
   "metadata": {},
   "outputs": [],
   "source": [
    "donor_tensor = vireoSNP.vcf.parse_donor_GPb(donor_vcf['GenoINFO'][\"GT\"], \"GT\")"
   ]
  },
  {
   "cell_type": "code",
   "execution_count": null,
   "metadata": {},
   "outputs": [],
   "source": [
    "donor_tensor"
   ]
  },
  {
   "cell_type": "code",
   "execution_count": null,
   "metadata": {},
   "outputs": [],
   "source": [
    "VCF_to_sdf(bulk_merged_data,)"
   ]
  },
  {
   "cell_type": "code",
   "execution_count": null,
   "metadata": {},
   "outputs": [],
   "source": []
  },
  {
   "cell_type": "code",
   "execution_count": null,
   "metadata": {},
   "outputs": [],
   "source": []
  },
  {
   "cell_type": "code",
   "execution_count": 6,
   "metadata": {
    "scrolled": true
   },
   "outputs": [
    {
     "name": "stdout",
     "output_type": "stream",
     "text": [
      "CPU times: user 2.28 s, sys: 729 ms, total: 3.01 s\n",
      "Wall time: 3.01 s\n"
     ]
    }
   ],
   "source": [
    "%%time\n",
    "df_b,df_d,m_GT=rematch_merge_vcf_annotated(bulk_merged_data,donor_vcf,df_anno)"
   ]
  },
  {
   "cell_type": "code",
   "execution_count": null,
   "metadata": {},
   "outputs": [],
   "source": []
  },
  {
   "cell_type": "code",
   "execution_count": null,
   "metadata": {},
   "outputs": [],
   "source": [
    "%%time \n",
    "dft_b,dft_d,mtt_GT=rematch_merge_vcf_noannotated(bulk_merged_data,donor_vcf)"
   ]
  },
  {
   "cell_type": "code",
   "execution_count": null,
   "metadata": {},
   "outputs": [],
   "source": [
    "dft_d"
   ]
  },
  {
   "cell_type": "code",
   "execution_count": null,
   "metadata": {},
   "outputs": [],
   "source": [
    "df_d"
   ]
  },
  {
   "cell_type": "code",
   "execution_count": null,
   "metadata": {},
   "outputs": [],
   "source": [
    "dft_b,dft_d,mtt_GT=removedfault(dft_b,dft_d,mtt_GT)"
   ]
  },
  {
   "cell_type": "code",
   "execution_count": 7,
   "metadata": {},
   "outputs": [],
   "source": [
    "df_b,df_d,m_GT=removedfault(df_b,df_d,m_GT)"
   ]
  },
  {
   "cell_type": "code",
   "execution_count": null,
   "metadata": {},
   "outputs": [],
   "source": []
  },
  {
   "cell_type": "code",
   "execution_count": null,
   "metadata": {},
   "outputs": [],
   "source": [
    "dft_d"
   ]
  },
  {
   "cell_type": "code",
   "execution_count": 8,
   "metadata": {},
   "outputs": [
    {
     "data": {
      "text/html": [
       "<div>\n",
       "<style scoped>\n",
       "    .dataframe tbody tr th:only-of-type {\n",
       "        vertical-align: middle;\n",
       "    }\n",
       "\n",
       "    .dataframe tbody tr th {\n",
       "        vertical-align: top;\n",
       "    }\n",
       "\n",
       "    .dataframe thead th {\n",
       "        text-align: right;\n",
       "    }\n",
       "</style>\n",
       "<table border=\"1\" class=\"dataframe\">\n",
       "  <thead>\n",
       "    <tr style=\"text-align: right;\">\n",
       "      <th></th>\n",
       "      <th>variants</th>\n",
       "      <th>function</th>\n",
       "      <th>genes</th>\n",
       "      <th>avsnp</th>\n",
       "      <th>GT</th>\n",
       "    </tr>\n",
       "  </thead>\n",
       "  <tbody>\n",
       "    <tr>\n",
       "      <th>0</th>\n",
       "      <td>chr1_14574_A_G</td>\n",
       "      <td>ncRNA_exonic</td>\n",
       "      <td>WASH7P</td>\n",
       "      <td>rs28503599</td>\n",
       "      <td>[0/0, 0/1, 0/1, 0/0, 0/0, 0/0, 0/1, 0/0, 0/1, ...</td>\n",
       "    </tr>\n",
       "    <tr>\n",
       "      <th>1</th>\n",
       "      <td>chr1_14590_G_A</td>\n",
       "      <td>ncRNA_exonic</td>\n",
       "      <td>WASH7P</td>\n",
       "      <td>rs707679</td>\n",
       "      <td>[0/0, 0/1, 0/1, 0/0, 0/0, 0/1, 0/1, 0/0, 0/0, ...</td>\n",
       "    </tr>\n",
       "    <tr>\n",
       "      <th>2</th>\n",
       "      <td>chr1_14599_T_A</td>\n",
       "      <td>ncRNA_exonic</td>\n",
       "      <td>WASH7P</td>\n",
       "      <td>rs707680</td>\n",
       "      <td>[0/1, 0/1, 0/1, 0/0, 0/0, 0/1, 0/1, 0/1, 0/1, ...</td>\n",
       "    </tr>\n",
       "    <tr>\n",
       "      <th>3</th>\n",
       "      <td>chr1_14604_A_G</td>\n",
       "      <td>ncRNA_exonic</td>\n",
       "      <td>WASH7P</td>\n",
       "      <td>rs541940975</td>\n",
       "      <td>[0/1, 0/1, 0/1, 0/0, 0/0, 0/1, 0/1, 0/1, 0/1, ...</td>\n",
       "    </tr>\n",
       "    <tr>\n",
       "      <th>4</th>\n",
       "      <td>chr1_14610_T_C</td>\n",
       "      <td>ncRNA_exonic</td>\n",
       "      <td>WASH7P</td>\n",
       "      <td>rs878986575</td>\n",
       "      <td>[0/1, 0/1, 0/1, 0/0, 0/0, 0/1, 0/1, 0/1, 0/1, ...</td>\n",
       "    </tr>\n",
       "    <tr>\n",
       "      <th>...</th>\n",
       "      <td>...</td>\n",
       "      <td>...</td>\n",
       "      <td>...</td>\n",
       "      <td>...</td>\n",
       "      <td>...</td>\n",
       "    </tr>\n",
       "    <tr>\n",
       "      <th>128180</th>\n",
       "      <td>chrX_155999818_C_T</td>\n",
       "      <td>intronic</td>\n",
       "      <td>IL9R</td>\n",
       "      <td>rs3093470</td>\n",
       "      <td>[1/1, 0/0, 1/1, 1/1, 0/1, 0/1, 0/1, 1/1, 1/1, ...</td>\n",
       "    </tr>\n",
       "    <tr>\n",
       "      <th>128181</th>\n",
       "      <td>chrX_155999869_A_G</td>\n",
       "      <td>intronic</td>\n",
       "      <td>IL9R</td>\n",
       "      <td>rs3091261</td>\n",
       "      <td>[1/1, 1/1, 1/1, 1/1, 1/1, 1/1, 1/1, 1/1, 1/1, ...</td>\n",
       "    </tr>\n",
       "    <tr>\n",
       "      <th>128182</th>\n",
       "      <td>chrX_155999957_G_C</td>\n",
       "      <td>intronic</td>\n",
       "      <td>IL9R</td>\n",
       "      <td>rs3093472</td>\n",
       "      <td>[1/1, 0/0, 1/1, 1/1, 0/1, 0/1, 0/1, 1/1, 1/1, ...</td>\n",
       "    </tr>\n",
       "    <tr>\n",
       "      <th>128183</th>\n",
       "      <td>chrX_156025297_G_A</td>\n",
       "      <td>downstream</td>\n",
       "      <td>DDX11L16</td>\n",
       "      <td>rs185932868</td>\n",
       "      <td>[0/1, 0/0, 0/1, 0/0, 0/1, 0/0, 0/0, 0/1, 0/1, ...</td>\n",
       "    </tr>\n",
       "    <tr>\n",
       "      <th>128187</th>\n",
       "      <td>chrY_3120449_C_G</td>\n",
       "      <td>intergenic</td>\n",
       "      <td>LINC00278;TGIF2LY</td>\n",
       "      <td>rs778218266</td>\n",
       "      <td>[0/1, 1/1, 0/1, 1/1, 0/0, 1/1, 1/1, 0/0, 0/1, ...</td>\n",
       "    </tr>\n",
       "  </tbody>\n",
       "</table>\n",
       "<p>127155 rows × 5 columns</p>\n",
       "</div>"
      ],
      "text/plain": [
       "                  variants      function              genes        avsnp  \\\n",
       "0           chr1_14574_A_G  ncRNA_exonic             WASH7P   rs28503599   \n",
       "1           chr1_14590_G_A  ncRNA_exonic             WASH7P     rs707679   \n",
       "2           chr1_14599_T_A  ncRNA_exonic             WASH7P     rs707680   \n",
       "3           chr1_14604_A_G  ncRNA_exonic             WASH7P  rs541940975   \n",
       "4           chr1_14610_T_C  ncRNA_exonic             WASH7P  rs878986575   \n",
       "...                    ...           ...                ...          ...   \n",
       "128180  chrX_155999818_C_T      intronic               IL9R    rs3093470   \n",
       "128181  chrX_155999869_A_G      intronic               IL9R    rs3091261   \n",
       "128182  chrX_155999957_G_C      intronic               IL9R    rs3093472   \n",
       "128183  chrX_156025297_G_A    downstream           DDX11L16  rs185932868   \n",
       "128187    chrY_3120449_C_G    intergenic  LINC00278;TGIF2LY  rs778218266   \n",
       "\n",
       "                                                       GT  \n",
       "0       [0/0, 0/1, 0/1, 0/0, 0/0, 0/0, 0/1, 0/0, 0/1, ...  \n",
       "1       [0/0, 0/1, 0/1, 0/0, 0/0, 0/1, 0/1, 0/0, 0/0, ...  \n",
       "2       [0/1, 0/1, 0/1, 0/0, 0/0, 0/1, 0/1, 0/1, 0/1, ...  \n",
       "3       [0/1, 0/1, 0/1, 0/0, 0/0, 0/1, 0/1, 0/1, 0/1, ...  \n",
       "4       [0/1, 0/1, 0/1, 0/0, 0/0, 0/1, 0/1, 0/1, 0/1, ...  \n",
       "...                                                   ...  \n",
       "128180  [1/1, 0/0, 1/1, 1/1, 0/1, 0/1, 0/1, 1/1, 1/1, ...  \n",
       "128181  [1/1, 1/1, 1/1, 1/1, 1/1, 1/1, 1/1, 1/1, 1/1, ...  \n",
       "128182  [1/1, 0/0, 1/1, 1/1, 0/1, 0/1, 0/1, 1/1, 1/1, ...  \n",
       "128183  [0/1, 0/0, 0/1, 0/0, 0/1, 0/0, 0/0, 0/1, 0/1, ...  \n",
       "128187  [0/1, 1/1, 0/1, 1/1, 0/0, 1/1, 1/1, 0/0, 0/1, ...  \n",
       "\n",
       "[127155 rows x 5 columns]"
      ]
     },
     "execution_count": 8,
     "metadata": {},
     "output_type": "execute_result"
    }
   ],
   "source": [
    "df_d"
   ]
  },
  {
   "cell_type": "code",
   "execution_count": 9,
   "metadata": {},
   "outputs": [
    {
     "data": {
      "text/plain": [
       "(127155, 10, 3)"
      ]
     },
     "execution_count": 9,
     "metadata": {},
     "output_type": "execute_result"
    }
   ],
   "source": [
    "m_GT.shape"
   ]
  },
  {
   "cell_type": "code",
   "execution_count": 10,
   "metadata": {},
   "outputs": [],
   "source": [
    "gene_unique=np.unique(df_d[\"genes\"].tolist())"
   ]
  },
  {
   "cell_type": "code",
   "execution_count": 11,
   "metadata": {},
   "outputs": [],
   "source": [
    "a=np.array(df_b[\"AD\"])\n",
    "d=np.array(df_b[\"DP\"])\n",
    "a=np.array(list(map(float,a)))\n",
    "d=np.array(list(map(float,d)))"
   ]
  },
  {
   "cell_type": "code",
   "execution_count": 12,
   "metadata": {},
   "outputs": [],
   "source": [
    "model =vireoSNP.VireoBulk(10)"
   ]
  },
  {
   "cell_type": "code",
   "execution_count": 13,
   "metadata": {},
   "outputs": [
    {
     "name": "stdout",
     "output_type": "stream",
     "text": [
      "CPU times: user 5min 59s, sys: 5.71 s, total: 6min 5s\n",
      "Wall time: 23 s\n"
     ]
    }
   ],
   "source": [
    "%%time\n",
    "model.fit(a,d,m_GT,learn_theta=True )"
   ]
  },
  {
   "cell_type": "code",
   "execution_count": 14,
   "metadata": {},
   "outputs": [
    {
     "data": {
      "text/plain": [
       "array([0.01338161, 0.44676019, 0.99255214])"
      ]
     },
     "execution_count": 14,
     "metadata": {},
     "output_type": "execute_result"
    }
   ],
   "source": [
    "model.theta"
   ]
  },
  {
   "cell_type": "code",
   "execution_count": 15,
   "metadata": {},
   "outputs": [
    {
     "data": {
      "text/plain": [
       "array([0.05361776, 0.03054629, 0.05080027, 0.08600668, 0.14832878,\n",
       "       0.07819137, 0.05603827, 0.12345294, 0.29600931, 0.07700833])"
      ]
     },
     "execution_count": 15,
     "metadata": {},
     "output_type": "execute_result"
    }
   ],
   "source": [
    "#test\n",
    "model.psi"
   ]
  },
  {
   "cell_type": "code",
   "execution_count": 43,
   "metadata": {},
   "outputs": [
    {
     "data": {
      "text/plain": [
       "array([0.05361776, 0.03054629, 0.05080027, 0.08600668, 0.14832878,\n",
       "       0.07819137, 0.05603827, 0.12345294, 0.29600931, 0.07700833])"
      ]
     },
     "execution_count": 43,
     "metadata": {},
     "output_type": "execute_result"
    }
   ],
   "source": [
    "model.psi"
   ]
  },
  {
   "cell_type": "code",
   "execution_count": 19,
   "metadata": {},
   "outputs": [
    {
     "data": {
      "text/plain": [
       "3"
      ]
     },
     "execution_count": 19,
     "metadata": {},
     "output_type": "execute_result"
    }
   ],
   "source": [
    "    model.n_GT"
   ]
  },
  {
   "cell_type": "code",
   "execution_count": 46,
   "metadata": {},
   "outputs": [
    {
     "data": {
      "text/plain": [
       "numpy.ndarray"
      ]
     },
     "execution_count": 46,
     "metadata": {},
     "output_type": "execute_result"
    }
   ],
   "source": [
    "type(model.psi)"
   ]
  },
  {
   "cell_type": "code",
   "execution_count": 47,
   "metadata": {},
   "outputs": [
    {
     "data": {
      "text/plain": [
       "'[0.05361776 0.03054629 0.05080027 0.08600668 0.14832878 0.07819137 0.05603827 0.12345294 0.29600931 0.07700833]'"
      ]
     },
     "execution_count": 47,
     "metadata": {},
     "output_type": "execute_result"
    }
   ],
   "source": [
    "str(model.psi).replace(\"\\n\",\"\")"
   ]
  },
  {
   "cell_type": "code",
   "execution_count": 49,
   "metadata": {},
   "outputs": [],
   "source": [
    "with open(\"modelsummary.txt\",\"w\") as f:\n",
    "    f.write(','.join(donor_vcf['samples']))\n",
    "    f.write(\"\\n\")\n",
    "    f.write(str(model.psi).replace(\"\\n\",\"\"))\n",
    "    f.write(\"\\n\")\n",
    "    f.write(str(model.theta))"
   ]
  },
  {
   "cell_type": "code",
   "execution_count": null,
   "metadata": {},
   "outputs": [],
   "source": [
    "donor_vcf['samples']"
   ]
  },
  {
   "cell_type": "code",
   "execution_count": null,
   "metadata": {},
   "outputs": [],
   "source": [
    "premodel=model.psi"
   ]
  },
  {
   "cell_type": "code",
   "execution_count": null,
   "metadata": {},
   "outputs": [],
   "source": [
    "premodel"
   ]
  },
  {
   "cell_type": "code",
   "execution_count": null,
   "metadata": {},
   "outputs": [],
   "source": [
    "%%time\n",
    "bulk_demuti_result= prediction_bulk(df_b,df_d,m_GT,donor_vcf,premodel,gene_unique)"
   ]
  },
  {
   "cell_type": "code",
   "execution_count": null,
   "metadata": {},
   "outputs": [],
   "source": [
    "bulk_demuti_result"
   ]
  },
  {
   "cell_type": "code",
   "execution_count": null,
   "metadata": {},
   "outputs": [],
   "source": [
    "bulk_demuti_result.to_csv(\"/media/wgs/subset_stimulation_bam/pbmc10donor/annotated_expo_umi2.csv\")"
   ]
  },
  {
   "cell_type": "code",
   "execution_count": 50,
   "metadata": {},
   "outputs": [],
   "source": [
    "import os"
   ]
  },
  {
   "cell_type": "code",
   "execution_count": null,
   "metadata": {},
   "outputs": [],
   "source": []
  },
  {
   "cell_type": "code",
   "execution_count": 53,
   "metadata": {},
   "outputs": [
    {
     "data": {
      "text/plain": [
       "'/home/flyflyzhizhi/Vireobulk_analysis/pipeline/output.csv'"
      ]
     },
     "execution_count": 53,
     "metadata": {},
     "output_type": "execute_result"
    }
   ],
   "source": [
    "os.path.join(os.getcwd(),\"output.csv\")"
   ]
  }
 ],
 "metadata": {
  "kernelspec": {
   "display_name": "Python 3 (ipykernel)",
   "language": "python",
   "name": "python3"
  },
  "language_info": {
   "codemirror_mode": {
    "name": "ipython",
    "version": 3
   },
   "file_extension": ".py",
   "mimetype": "text/x-python",
   "name": "python",
   "nbconvert_exporter": "python",
   "pygments_lexer": "ipython3",
   "version": "3.10.4"
  },
  "toc": {
   "base_numbering": 1,
   "nav_menu": {},
   "number_sections": true,
   "sideBar": true,
   "skip_h1_title": false,
   "title_cell": "Table of Contents",
   "title_sidebar": "Contents",
   "toc_cell": false,
   "toc_position": {},
   "toc_section_display": true,
   "toc_window_display": false
  },
  "varInspector": {
   "cols": {
    "lenName": 16,
    "lenType": 16,
    "lenVar": 40
   },
   "kernels_config": {
    "python": {
     "delete_cmd_postfix": "",
     "delete_cmd_prefix": "del ",
     "library": "var_list.py",
     "varRefreshCmd": "print(var_dic_list())"
    },
    "r": {
     "delete_cmd_postfix": ") ",
     "delete_cmd_prefix": "rm(",
     "library": "var_list.r",
     "varRefreshCmd": "cat(var_dic_list()) "
    }
   },
   "types_to_exclude": [
    "module",
    "function",
    "builtin_function_or_method",
    "instance",
    "_Feature"
   ],
   "window_display": false
  }
 },
 "nbformat": 4,
 "nbformat_minor": 4
}
