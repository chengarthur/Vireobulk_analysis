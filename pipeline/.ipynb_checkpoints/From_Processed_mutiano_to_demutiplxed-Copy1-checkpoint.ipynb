{
 "cells": [
  {
   "cell_type": "code",
   "execution_count": 1,
   "metadata": {},
   "outputs": [],
   "source": [
    "## header file function (need to be script )\n",
    "import sys\n",
    "import numpy as np\n",
    "import vireoSNP\n",
    "from vireoSNP.utils.vireo_base import match\n",
    "from vireoSNP.utils.vcf_utils import load_VCF, write_VCF, parse_donor_GPb\n",
    "from vireoSNP.utils.vcf_utils import read_sparse_GeneINFO, GenoINFO_maker\n",
    "import matplotlib.pyplot as plt\n",
    "import pandas as pd\n",
    "from vireoSNP.utils.io_utils import match_donor_VCF\n",
    "import re as re\n",
    "def VCF_to_sdf(bulk_data):\n",
    "    df_empty=pd.DataFrame(columns=[\"variants\",\"AD\",\"DP\",\"GT\"])\n",
    "    bulk_dat = read_sparse_GeneINFO(bulk_data['GenoINFO'], keys=['AD', 'DP'])\n",
    "    df_empty[\"variants\"]=bulk_data[\"variants\"]\n",
    "    df_empty[\"AD\"]=bulk_dat[\"AD\"].toarray()\n",
    "    df_empty[\"DP\"]=bulk_dat[\"DP\"].toarray()\n",
    "    return (df_empty)\n",
    "\n",
    "def rematch_vcf(bulk_data,donor_vcf):\n",
    "    df_bulk=VCF_to_sdf(bulk_data)\n",
    "    df_donor=pd.DataFrame(columns=[\"variants\",\"GT\"])\n",
    "    df_donor[\"variants\"]=donor_vcf[\"variants\"]\n",
    "    df_donor[\"GT\"]=donor_vcf[\"GenoINFO\"][\"GT\"]     \n",
    "    donor_tensor = vireoSNP.vcf.parse_donor_GPb(donor_vcf['GenoINFO'][\"GT\"], \"GT\")\n",
    "    itersect_variants=pd.Series(list(set(df_donor[\"variants\"]).intersection(set(df_bulk[\"variants\"]))))\n",
    "    id_d=df_donor[\"variants\"].isin(itersect_variants)\n",
    "    id_b=df_bulk[\"variants\"].isin(itersect_variants)\n",
    "    df_bulk=df_bulk[id_b]\n",
    "    df_donor=df_donor[id_d]\n",
    "    donor_tensor=donor_tensor[id_d]\n",
    "    return(df_bulk,df_donor,donor_tensor)\n",
    "def rematch_vcf_annotated(bulk_data,donor_vcf,donor_vcf_anno):\n",
    "    df_bulk=VCF_to_sdf(bulk_data)\n",
    "    df_donora=pd.DataFrame(columns=[\"variants\",\"function\",\"genes\",\"avsnp\",\"GT\"])\n",
    "    df_donora[\"variants\"]=donor_vcf_anno[\"variants\"]  \n",
    "    df_donora[\"function\"]=donor_vcf_anno[\"function.\"]\n",
    "    df_donora[\"genes\"]=donor_vcf_anno[\"genes\"]\n",
    "    df_donora[\"avsnp\"]=donor_vcf_anno[\"avsnp\"]\n",
    "    df_donor=pd.DataFrame(columns=[\"variants\",\"GT\"])\n",
    "    df_donor[\"variants\"]=donor_vcf[\"variants\"]\n",
    "    df_donor[\"GT\"]=donor_vcf[\"GenoINFO\"][\"GT\"]     \n",
    "    donor_tensor = vireoSNP.vcf.parse_donor_GPb(donor_vcf['GenoINFO'][\"GT\"], \"GT\")\n",
    "    itersect_variants=pd.Series(list(set(df_donora[\"variants\"]).intersection(set(df_bulk[\"variants\"]))))\n",
    "    id_d=df_donor[\"variants\"].isin(itersect_variants)\n",
    "    id_b=df_bulk[\"variants\"].isin(itersect_variants)\n",
    "    id_da=df_donora[\"variants\"].isin(itersect_variants)\n",
    "    df_bulk=df_bulk[id_b]\n",
    "    df_donor=df_donor[id_d]\n",
    "    df_donora=df_donora[id_da]\n",
    "    donor_tensor=donor_tensor[id_d]\n",
    "    df_donora[\"GT\"]=df_donora[\"GT\"]=df_donor[\"GT\"].tolist()\n",
    "    return(df_bulk,df_donora,donor_tensor)\n",
    "def merged_VCF_to_sdf(bulk_data_merge):\n",
    "    df_empty=pd.DataFrame(columns=[\"variants\",\"AD\",\"DP\",\"OTH\"])\n",
    "    df_empty[\"variants\"]=bulk_data_merge[\"variants\"]\n",
    "    testdf=pd.DataFrame(np.array(bulk_merged_data['FixedINFO'][\"INFO\"]))\n",
    "    df_empty[\"AD\"]=testdf[0].str.split(';',expand=True)[0].str.split('=',expand=True)[1].astype(float)\n",
    "    df_empty[\"DP\"]=testdf[0].str.split(';',expand=True)[1].str.split('=',expand=True)[1].astype(float)\n",
    "    df_empty[\"OTH\"]=testdf[0].str.split(';',expand=True)[2].str.split('=',expand=True)[1].astype(float)\n",
    "\n",
    "    \n",
    "\n",
    "    return(df_empty)\n",
    "def rematch_merge_vcf_annotated(bulk_data,donor_vcf,donor_vcf_anno):\n",
    "    df_bulk=merged_VCF_to_sdf(bulk_data)\n",
    "    df_donora=pd.DataFrame(columns=[\"variants\",\"function\",\"genes\",\"avsnp\",\"GT\"])\n",
    "    df_donora[\"variants\"]=donor_vcf_anno[\"variants\"]  \n",
    "    df_donora[\"function\"]=donor_vcf_anno[\"function.\"]\n",
    "    df_donora[\"genes\"]=donor_vcf_anno[\"genes\"]\n",
    "    df_donora[\"avsnp\"]=donor_vcf_anno[\"avsnp\"]\n",
    "    df_donor=pd.DataFrame(columns=[\"variants\",\"GT\"])\n",
    "    df_donor[\"variants\"]=donor_vcf[\"variants\"]\n",
    "    df_donor[\"GT\"]=donor_vcf[\"GenoINFO\"][\"GT\"]     \n",
    "    donor_tensor = vireoSNP.vcf.parse_donor_GPb(donor_vcf['GenoINFO'][\"GT\"], \"GT\")\n",
    "    itersect_variants=pd.Series(list(set(df_donora[\"variants\"]).intersection(set(df_bulk[\"variants\"]))))\n",
    "    id_d=df_donor[\"variants\"].isin(itersect_variants)\n",
    "    id_b=df_bulk[\"variants\"].isin(itersect_variants)\n",
    "    id_da=df_donora[\"variants\"].isin(itersect_variants)\n",
    "    df_bulk=df_bulk[id_b]\n",
    "    df_donor=df_donor[id_d]\n",
    "    df_donora=df_donora[id_da]\n",
    "    donor_tensor=donor_tensor[id_d]\n",
    "    df_donora[\"GT\"]=df_donora[\"GT\"]=df_donor[\"GT\"].tolist()\n",
    "    return(df_bulk,df_donora,donor_tensor)\n",
    "def find_all(data, s):\n",
    "    r_list = []\n",
    "    for r in range(len(data)):\n",
    "        r_list.append( s in data[r])\n",
    " \n",
    "    return(r_list)\n",
    "def removedfault(df_bulk,df_donora,donor_tensor):\n",
    "    id_d=[]\n",
    "    for bool in find_all(np.array(df_donora[\"GT\"]).tolist(),\"./.\"):\n",
    "        id_d.append(not bool)\n",
    "    df_donor=df_donora[id_d]\n",
    "    df_gt=donor_tensor[id_d]\n",
    "    id_b=df_bulk[\"variants\"].isin(df_donor[\"variants\"])\n",
    "    df_b=df_bulk[id_b]\n",
    "    return(df_b,df_donor,df_gt)"
   ]
  },
  {
   "cell_type": "code",
   "execution_count": 2,
   "metadata": {},
   "outputs": [],
   "source": [
    "def rematch_merge_vcf_noannotated(bulk_data,donor_vcf):\n",
    "    df_bulk=merged_VCF_to_sdf(bulk_data)\n",
    "    df_donor=pd.DataFrame(columns=[\"variants\",\"GT\"])\n",
    "    df_donor[\"variants\"]=donor_vcf[\"variants\"]\n",
    "    df_donor[\"GT\"]=donor_vcf[\"GenoINFO\"][\"GT\"]\n",
    "    donor_tensor = vireoSNP.vcf.parse_donor_GPb(donor_vcf['GenoINFO'][\"GT\"], \"GT\")\n",
    "    itersect_variants=pd.Series(list(set(df_donor[\"variants\"]).intersection(set(df_bulk[\"variants\"]))))\n",
    "    id_d=df_donor[\"variants\"].isin(itersect_variants)\n",
    "    id_b=df_bulk[\"variants\"].isin(itersect_variants)\n",
    "    df_bulk=df_bulk[id_b]\n",
    "    df_donor=df_donor[id_d]\n",
    "    donor_tensor=donor_tensor[id_d]\n",
    "    return(df_bulk,df_donor,donor_tensor)"
   ]
  },
  {
   "cell_type": "code",
   "execution_count": 3,
   "metadata": {},
   "outputs": [],
   "source": [
    "def prediction_bulk(df_b,df_d,df_gt,donor_vcf,pre_model,genelist):\n",
    "    gene_unique=genelist\n",
    "    new=pd.DataFrame(index=gene_unique,columns=donor_vcf['samples']+[\"chi\",\"p\",\"numSNP\"])\n",
    "    pre_psi=pre_model\n",
    "    test_d=df_d\n",
    "    test_b=df_b\n",
    "    test_gt=df_gt\n",
    "    sample_list=donor_vcf['samples']\n",
    "    nk=len(donor_vcf['samples'])\n",
    "    for i in range(len(gene_unique)):\n",
    "        sub_d=test_d[test_d[\"genes\"]==gene_unique[i]]\n",
    "        sub_b=test_b[test_b[\"variants\"].isin(test_d[test_d[\"genes\"]==gene_unique[i]][\"variants\"])]\n",
    "        sub_gt=test_gt[test_d[\"genes\"]==gene_unique[i]]\n",
    "        a=np.array(sub_b[\"AD\"])\n",
    "        d=np.array(sub_b[\"DP\"])\n",
    "        a=np.array(list(map(float,a)))\n",
    "        d=np.array(list(map(float,d)))\n",
    "        model =vireoSNP.VireoBulk(nk)\n",
    "        model.fit(a,d,sub_gt,learn_theta=False )\n",
    "        pv=vireoSNP.LikRatio_test(model.psi,pre_psi,a,d,sub_gt,model.theta)\n",
    "        for j in range(len(model.psi)):\n",
    "            new[sample_list[j]][i]=model.psi[j]\n",
    "        new[\"chi\"][i]=pv[0]\n",
    "        new[\"p\"][i]=pv[1]\n",
    "        new[\"numSNP\"][i]=len(a)\n",
    "    return(new)"
   ]
  },
  {
   "cell_type": "code",
   "execution_count": 4,
   "metadata": {},
   "outputs": [],
   "source": [
    "donor_vcf=load_VCF(   \"/home/flyflyzhizhi/Vireobulk_analysis/data/filter_pbmc10donors.vcf.gz\",    biallelic_only=True,    load_sample=True, sparse=False , format_list=None)\n",
    "####count based model\n",
    "##bulk_merged_data=load_VCF(   \"/media/wgs/subset_stimulation_bam/pbmc10donor_bulk/cellSNP.cells.vcf.gz\",    biallelic_only=True,    load_sample=True,    format_list=None,)\n",
    "#### UMI based model\n",
    "bulk_merged_data=load_VCF(\"/home/flyflyzhizhi/Vireobulk_analysis/data/cellSNP.base.vcf.gz\", biallelic_only=True,load_sample=False,format_list=None,)\n",
    "###processedcsv\n",
    "df_anno=pd.read_csv(\"/home/flyflyzhizhi/Vireobulk_analysis/data/scvcf_annotated_processed.csv\")"
   ]
  },
  {
   "cell_type": "code",
   "execution_count": 7,
   "metadata": {},
   "outputs": [
    {
     "data": {
      "text/plain": [
       "10"
      ]
     },
     "execution_count": 7,
     "metadata": {},
     "output_type": "execute_result"
    }
   ],
   "source": [
    "len(donor_vcf['samples'])"
   ]
  },
  {
   "cell_type": "code",
   "execution_count": null,
   "metadata": {},
   "outputs": [],
   "source": [
    "%%time\n",
    "df_b=merged_VCF_to_sdf(bulk_merged_data)"
   ]
  },
  {
   "cell_type": "code",
   "execution_count": null,
   "metadata": {},
   "outputs": [],
   "source": [
    "df_d=merged_VCF_to_sdf(donor_vcf)"
   ]
  },
  {
   "cell_type": "code",
   "execution_count": null,
   "metadata": {},
   "outputs": [],
   "source": [
    "bulk"
   ]
  },
  {
   "cell_type": "code",
   "execution_count": null,
   "metadata": {},
   "outputs": [],
   "source": []
  },
  {
   "cell_type": "code",
   "execution_count": null,
   "metadata": {},
   "outputs": [],
   "source": [
    "df_b,df_d,m_GT=rematch_vcf(bulk_merged_data, donor_vcf)"
   ]
  },
  {
   "cell_type": "code",
   "execution_count": null,
   "metadata": {},
   "outputs": [],
   "source": []
  },
  {
   "cell_type": "code",
   "execution_count": null,
   "metadata": {},
   "outputs": [],
   "source": [
    "#count_bulk_data\n",
    "count_bulk_data=load_VCF(   \"/media/wgs/subset_stimulation_bam/pbmc10donor_bulk/cellSNP.cells.vcf.gz\",    biallelic_only=True,    load_sample=True,    format_list=None,)\n",
    "cf_b,cf_d,cm_GT=rematch_merge_vcf_annotated(count_bulk_data,donor_vcf,df_anno)\n",
    "cf_b,cf_d,cm_GT=removedfault(cf_b,cf_d,cm_GT)"
   ]
  },
  {
   "cell_type": "code",
   "execution_count": null,
   "metadata": {},
   "outputs": [],
   "source": [
    "donor_tensor = vireoSNP.vcf.parse_donor_GPb(donor_vcf['GenoINFO'][\"GT\"], \"GT\")"
   ]
  },
  {
   "cell_type": "code",
   "execution_count": null,
   "metadata": {},
   "outputs": [],
   "source": [
    "donor_tensor"
   ]
  },
  {
   "cell_type": "code",
   "execution_count": null,
   "metadata": {},
   "outputs": [],
   "source": [
    "VCF_to_sdf(bulk_merged_data,)"
   ]
  },
  {
   "cell_type": "code",
   "execution_count": null,
   "metadata": {},
   "outputs": [],
   "source": []
  },
  {
   "cell_type": "code",
   "execution_count": null,
   "metadata": {},
   "outputs": [],
   "source": []
  },
  {
   "cell_type": "code",
   "execution_count": null,
   "metadata": {
    "scrolled": true
   },
   "outputs": [],
   "source": [
    "%%time\n",
    "df_b,df_d,m_GT=rematch_merge_vcf_annotated(bulk_merged_data,donor_vcf,df_anno)"
   ]
  },
  {
   "cell_type": "code",
   "execution_count": null,
   "metadata": {},
   "outputs": [],
   "source": []
  },
  {
   "cell_type": "code",
   "execution_count": null,
   "metadata": {},
   "outputs": [],
   "source": [
    "%%time \n",
    "dft_b,dft_d,mtt_GT=rematch_merge_vcf_noannotated(bulk_merged_data,donor_vcf)"
   ]
  },
  {
   "cell_type": "code",
   "execution_count": null,
   "metadata": {},
   "outputs": [],
   "source": [
    "dft_d"
   ]
  },
  {
   "cell_type": "code",
   "execution_count": null,
   "metadata": {},
   "outputs": [],
   "source": [
    "df_d"
   ]
  },
  {
   "cell_type": "code",
   "execution_count": null,
   "metadata": {},
   "outputs": [],
   "source": [
    "dft_b,dft_d,mtt_GT=removedfault(dft_b,dft_d,mtt_GT)"
   ]
  },
  {
   "cell_type": "code",
   "execution_count": null,
   "metadata": {},
   "outputs": [],
   "source": [
    "df_b,df_d,m_GT=removedfault(df_b,df_d,m_GT)"
   ]
  },
  {
   "cell_type": "code",
   "execution_count": null,
   "metadata": {},
   "outputs": [],
   "source": []
  },
  {
   "cell_type": "code",
   "execution_count": null,
   "metadata": {},
   "outputs": [],
   "source": [
    "dft_d"
   ]
  },
  {
   "cell_type": "code",
   "execution_count": null,
   "metadata": {},
   "outputs": [],
   "source": [
    "df_d"
   ]
  },
  {
   "cell_type": "code",
   "execution_count": null,
   "metadata": {},
   "outputs": [],
   "source": [
    "m_GT.shape"
   ]
  },
  {
   "cell_type": "code",
   "execution_count": null,
   "metadata": {},
   "outputs": [],
   "source": [
    "gene_unique=np.unique(df_d[\"genes\"].tolist())"
   ]
  },
  {
   "cell_type": "code",
   "execution_count": null,
   "metadata": {},
   "outputs": [],
   "source": [
    "a=np.array(df_b[\"AD\"])\n",
    "d=np.array(df_b[\"DP\"])\n",
    "a=np.array(list(map(float,a)))\n",
    "d=np.array(list(map(float,d)))"
   ]
  },
  {
   "cell_type": "code",
   "execution_count": null,
   "metadata": {},
   "outputs": [],
   "source": [
    "model =vireoSNP.VireoBulk(10)"
   ]
  },
  {
   "cell_type": "code",
   "execution_count": null,
   "metadata": {},
   "outputs": [],
   "source": [
    "%%time\n",
    "model.fit(a,d,m_GT,learn_theta=True )"
   ]
  },
  {
   "cell_type": "code",
   "execution_count": null,
   "metadata": {},
   "outputs": [],
   "source": [
    "model.theta"
   ]
  },
  {
   "cell_type": "code",
   "execution_count": null,
   "metadata": {},
   "outputs": [],
   "source": [
    "#test\n",
    "model.psi"
   ]
  },
  {
   "cell_type": "code",
   "execution_count": null,
   "metadata": {},
   "outputs": [],
   "source": [
    "model.psi"
   ]
  },
  {
   "cell_type": "code",
   "execution_count": null,
   "metadata": {},
   "outputs": [],
   "source": []
  },
  {
   "cell_type": "code",
   "execution_count": null,
   "metadata": {},
   "outputs": [],
   "source": []
  },
  {
   "cell_type": "code",
   "execution_count": null,
   "metadata": {},
   "outputs": [],
   "source": [
    "donor_vcf['samples']"
   ]
  },
  {
   "cell_type": "code",
   "execution_count": null,
   "metadata": {},
   "outputs": [],
   "source": [
    "premodel=model.psi"
   ]
  },
  {
   "cell_type": "code",
   "execution_count": null,
   "metadata": {},
   "outputs": [],
   "source": [
    "premodel"
   ]
  },
  {
   "cell_type": "code",
   "execution_count": null,
   "metadata": {},
   "outputs": [],
   "source": [
    "%%time\n",
    "bulk_demuti_result= prediction_bulk(df_b,df_d,m_GT,donor_vcf,premodel,gene_unique)"
   ]
  },
  {
   "cell_type": "code",
   "execution_count": null,
   "metadata": {},
   "outputs": [],
   "source": [
    "bulk_demuti_result"
   ]
  },
  {
   "cell_type": "code",
   "execution_count": null,
   "metadata": {},
   "outputs": [],
   "source": [
    "bulk_demuti_result.to_csv(\"/media/wgs/subset_stimulation_bam/pbmc10donor/annotated_expo_umi2.csv\")"
   ]
  },
  {
   "cell_type": "code",
   "execution_count": null,
   "metadata": {},
   "outputs": [],
   "source": []
  },
  {
   "cell_type": "code",
   "execution_count": null,
   "metadata": {},
   "outputs": [],
   "source": []
  }
 ],
 "metadata": {
  "kernelspec": {
   "display_name": "Python 3 (ipykernel)",
   "language": "python",
   "name": "python3"
  },
  "language_info": {
   "codemirror_mode": {
    "name": "ipython",
    "version": 3
   },
   "file_extension": ".py",
   "mimetype": "text/x-python",
   "name": "python",
   "nbconvert_exporter": "python",
   "pygments_lexer": "ipython3",
   "version": "3.10.4"
  },
  "toc": {
   "base_numbering": 1,
   "nav_menu": {},
   "number_sections": true,
   "sideBar": true,
   "skip_h1_title": false,
   "title_cell": "Table of Contents",
   "title_sidebar": "Contents",
   "toc_cell": false,
   "toc_position": {},
   "toc_section_display": true,
   "toc_window_display": false
  },
  "varInspector": {
   "cols": {
    "lenName": 16,
    "lenType": 16,
    "lenVar": 40
   },
   "kernels_config": {
    "python": {
     "delete_cmd_postfix": "",
     "delete_cmd_prefix": "del ",
     "library": "var_list.py",
     "varRefreshCmd": "print(var_dic_list())"
    },
    "r": {
     "delete_cmd_postfix": ") ",
     "delete_cmd_prefix": "rm(",
     "library": "var_list.r",
     "varRefreshCmd": "cat(var_dic_list()) "
    }
   },
   "types_to_exclude": [
    "module",
    "function",
    "builtin_function_or_method",
    "instance",
    "_Feature"
   ],
   "window_display": false
  }
 },
 "nbformat": 4,
 "nbformat_minor": 4
}
